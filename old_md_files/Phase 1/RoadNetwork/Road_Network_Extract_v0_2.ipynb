{
 "cells": [
  {
   "cell_type": "markdown",
   "metadata": {},
   "source": [
    "# Road Network Analysis\n",
    "\n",
    "## Network Analysis - v0.2\n",
    "\n",
    "\n",
    "*MIT Megacity Logistics Lab*(c): Daniel Merchan <dmerchan@mit.edu>, Esteban Mascarino <estmasca@mit.edu>, Matthias Winkenbach <mwinkenb@mit.edu>\n",
    "\n",
    "**Summary**: This script reads a list of pixels and obtains relevant network-based metrics. Uses OSMnx library. \n",
    "\n",
    "Details about OSMnx can be found here: https://github.com/gboeing/osmnx"
   ]
  },
  {
   "cell_type": "code",
   "execution_count": null,
   "metadata": {
    "collapsed": false
   },
   "outputs": [],
   "source": [
    "# Basic numeric libraries\n",
    "import numpy as np\n",
    "import math as m\n",
    "import scipy as sp\n",
    "import pandas as pd\n",
    "pd.options.mode.chained_assignment = None\n",
    "#from scipy import stats\n",
    "from __future__ import division\n",
    "\n",
    "# Library to handle geometric objects:\n",
    "#from shapely.geometry import Point, MultiPoint, box, Polygon\n",
    "\n",
    "# Libraries for data visualization\n",
    "#import matplotlib\n",
    "#matplotlib.use('TkAgg')\n",
    "import matplotlib.pyplot as plt\n",
    "import seaborn as sns\n",
    "\n",
    "# Libraries for statistical analysis\n",
    "import statsmodels.api as sm\n",
    "import statsmodels.formula.api as smf\n",
    "from sklearn.linear_model import LinearRegression as Lin_Reg\n",
    "import random\n",
    "\n",
    "#Libraries for handling temporal data or monitoring processing time\n",
    "import datetime as dt\n",
    "import time\n",
    "from time import sleep\n",
    "#import multiprocessing as mp\n",
    "\n",
    "#Specify code isualization settings\n",
    "sns.set(color_codes=True)\n",
    "pd.options.display.max_columns = 40\n",
    "%matplotlib inline\n",
    "\n",
    "#Libraries to work with geospatial data\n",
    "import zipcode\n",
    "import googlemaps\n",
    "import utm\n",
    "\n",
    "#System libraries\n",
    "import sys\n",
    "import os\n",
    "import itertools\n",
    "\n",
    "\n",
    "#Libraries for optimization\n",
    "import networkx as nx\n",
    "import osmnx as ox\n",
    "from IPython.display import Image\n",
    "%matplotlib inline\n",
    "ox.config(log_file=True, log_console=True, use_cache=True)\n",
    "#from gurobipy import *"
   ]
  },
  {
   "cell_type": "markdown",
   "metadata": {},
   "source": [
    "## Network statistics for a list of pixels"
   ]
  },
  {
   "cell_type": "markdown",
   "metadata": {},
   "source": [
    "## Functions"
   ]
  },
  {
   "cell_type": "code",
   "execution_count": null,
   "metadata": {
    "collapsed": true
   },
   "outputs": [],
   "source": [
    "'''\n",
    "Input:\n",
    "- file_csv: file name \n",
    "Output:\n",
    "- pixs: dataframe of pixels\n",
    "'''\n",
    "def read_file(file_csv):\n",
    "    pixs = pd.read_csv(file_csv, index_col=[\"pixel_ID\"])\n",
    "    return pixs"
   ]
  },
  {
   "cell_type": "markdown",
   "metadata": {},
   "source": [
    "To get basic and advanced network statistics as defined by OSMnx. For futhre details see: https://github.com/gboeing/osmnx/blob/master/examples/06-example-osmnx-networkx.ipynb"
   ]
  },
  {
   "cell_type": "code",
   "execution_count": null,
   "metadata": {
    "collapsed": true
   },
   "outputs": [],
   "source": [
    "'''\n",
    "Input:\n",
    "- network: OSMnx network extraction\n",
    "- relevant_stats_names: list of selected statistics\n",
    "Output:\n",
    "- relevant_basic_stats_values: values for the relevant basic statistics \n",
    "'''\n",
    "def get_basic_nextwork_stats(network, relevant_stats_names):\n",
    "    \n",
    "    basic_stats = ox.basic_stats(network, area = 1000000)\n",
    "    \n",
    "    relevant_basic_stats_values = []\n",
    "    for stat in relevant_stats_names:\n",
    "        relevant_basic_stats_values.append(basic_stats[stat])\n",
    "        \n",
    "    return relevant_basic_stats_values"
   ]
  },
  {
   "cell_type": "code",
   "execution_count": null,
   "metadata": {
    "collapsed": true
   },
   "outputs": [],
   "source": [
    "'''\n",
    "Input:\n",
    "- network: OSMnx network extraction\n",
    "- relevant_stats_names: list of selected statistics\n",
    "Output:\n",
    "- relevant_extended_stats_values: values for the relevant extended statistics \n",
    "'''\n",
    "def get_extended_nextwork_stats(network, relevant_stats_names):\n",
    "    \n",
    "    extended_stats = ox.extended_stats(G, connectivity = False, anc = True, ecc = True, bc=True, cc = True)\n",
    "    \n",
    "    relevant_extended_stats_values = []\n",
    "    for stat in relevant_stats_names:\n",
    "        relevant_extended_stats_values.append(extended_stats[stat])\n",
    "        \n",
    "    return relevant_extended_stats_values"
   ]
  },
  {
   "cell_type": "markdown",
   "metadata": {},
   "source": [
    "## Run script"
   ]
  },
  {
   "cell_type": "markdown",
   "metadata": {},
   "source": [
    "Load the file"
   ]
  },
  {
   "cell_type": "code",
   "execution_count": null,
   "metadata": {
    "collapsed": false
   },
   "outputs": [],
   "source": [
    "city =  str(input(\"Enter the name of the city enclosed by'': \"))"
   ]
  },
  {
   "cell_type": "code",
   "execution_count": null,
   "metadata": {
    "collapsed": true
   },
   "outputs": [],
   "source": [
    "# The folder separator for iOS and Linux is \"/\" whereas for Windows it is \"\\\"\n",
    "if city == 'Lima':\n",
    "    file_name = 'Input/LIM_pixels_population.csv'\n",
    "elif city == 'Bogota':\n",
    "    file_name = 'Input/BOG_pixels_population.csv'\n",
    "elif city == 'Quito':\n",
    "    file_name = 'Input/UIO_pixels_population.csv'"
   ]
  },
  {
   "cell_type": "code",
   "execution_count": null,
   "metadata": {
    "collapsed": false
   },
   "outputs": [],
   "source": [
    "pixels = read_file(file_name)"
   ]
  },
  {
   "cell_type": "code",
   "execution_count": null,
   "metadata": {
    "collapsed": false
   },
   "outputs": [],
   "source": [
    "pixels.head()"
   ]
  },
  {
   "cell_type": "markdown",
   "metadata": {},
   "source": [
    "Define relevant statistics"
   ]
  },
  {
   "cell_type": "code",
   "execution_count": null,
   "metadata": {
    "collapsed": true
   },
   "outputs": [],
   "source": [
    "relevant_basic_stats_names = ['count_intersections',\n",
    "                              'street_length_avg','street_length_total',\n",
    "                              'streets_per_node_avg']\n",
    "relevant_extended_stats_names = ['betweenness_centrality_avg','closeness_centrality_avg',\n",
    "                                 'clustering_coefficient_avg']"
   ]
  },
  {
   "cell_type": "markdown",
   "metadata": {},
   "source": [
    "Extract pixels index & lat_lons "
   ]
  },
  {
   "cell_type": "code",
   "execution_count": null,
   "metadata": {
    "collapsed": false
   },
   "outputs": [],
   "source": [
    "pixels_index_list = pixels.index.values\n",
    "pixels_latlon_matrix = pixels[['lat', 'lon']].as_matrix()"
   ]
  },
  {
   "cell_type": "markdown",
   "metadata": {},
   "source": [
    "Get statistics for each pixel "
   ]
  },
  {
   "cell_type": "code",
   "execution_count": null,
   "metadata": {
    "collapsed": false
   },
   "outputs": [],
   "source": [
    "print 'Start time:', time.ctime()\n",
    "\n",
    "#Matrix for all network statistics\n",
    "network_stats = []\n",
    "#to keep track of pixels in which an error was reported\n",
    "pixels_errors = []\n",
    "counter = 0\n",
    "#iterate over the list of pixels\n",
    "for pixel_centroid in pixels_latlon_matrix:\n",
    "    counter +=1\n",
    "    print 'Pixel', counter\n",
    "    pixel_basic_stats = []\n",
    "    pixel_extended_stats = []\n",
    "    try: \n",
    "        G = ox.graph_from_point((pixel_centroid[0], pixel_centroid[1]), distance=500, distance_type = 'bbox', network_type='drive', simplify = True,  clean_periphery = True)\n",
    "        print 'Network extracted'\n",
    "        pixel_basic_stats = get_basic_nextwork_stats(G, relevant_basic_stats_names)\n",
    "        #print 'Basic stats processed'\n",
    "        pixel_extended_stats = get_extended_nextwork_stats(G, relevant_extended_stats_names)\n",
    "        #print 'Extended stats processed'\n",
    "    except:\n",
    "        print 'Network could not be extracted'\n",
    "        #print np.indices[np.where(pixels_latlon_matrix==pixel_centroid)]\n",
    "        pixels_errors.append(pixels_index_list[counter-1])\n",
    "        pixel_basic_stats = [0 for stat in xrange(0,len(relevant_basic_stats_names))]\n",
    "        pixel_extended_stats = [0 for stat in xrange(0,len(relevant_extended_stats_names))]\n",
    "\n",
    "    network_stats.append(pixel_basic_stats + pixel_extended_stats)\n",
    "    \n",
    "print 'End time:', time.ctime()"
   ]
  },
  {
   "cell_type": "markdown",
   "metadata": {},
   "source": [
    "Post-processing: Create a dataframe of results and concatenate it to the original pixels dataframe"
   ]
  },
  {
   "cell_type": "code",
   "execution_count": null,
   "metadata": {
    "collapsed": true
   },
   "outputs": [],
   "source": [
    "network_stats_df = pd.DataFrame(network_stats, columns = relevant_basic_stats_names+relevant_extended_stats_names, index = pixels_index_list )"
   ]
  },
  {
   "cell_type": "code",
   "execution_count": null,
   "metadata": {
    "collapsed": false
   },
   "outputs": [],
   "source": [
    "network_stats_df.head()"
   ]
  },
  {
   "cell_type": "code",
   "execution_count": null,
   "metadata": {
    "collapsed": true
   },
   "outputs": [],
   "source": [
    "pixels_results = pd.concat([pixels, network_stats_df], axis=1)"
   ]
  },
  {
   "cell_type": "markdown",
   "metadata": {
    "collapsed": true
   },
   "source": [
    "## Export results"
   ]
  },
  {
   "cell_type": "code",
   "execution_count": null,
   "metadata": {
    "collapsed": false
   },
   "outputs": [],
   "source": [
    "pixels_results.head()"
   ]
  },
  {
   "cell_type": "code",
   "execution_count": null,
   "metadata": {
    "collapsed": true
   },
   "outputs": [],
   "source": [
    "# The folder separator for iOS and Linux is \"/\" whereas for Windows it is \"\\\"\n",
    "if city == 'Lima':\n",
    "    file_name = 'Output/LIM_pixels_population_roads.csv'\n",
    "elif city == 'Bogota':\n",
    "    file_name = 'Output/BOG_pixels_population_roads.csv'\n",
    "elif city == 'Quito':\n",
    "    file_name = 'Output/UIO_pixels_population_roads.csv'"
   ]
  },
  {
   "cell_type": "code",
   "execution_count": null,
   "metadata": {
    "collapsed": true
   },
   "outputs": [],
   "source": [
    "pixels_results.to_csv(file_name, index = False)"
   ]
  }
 ],
 "metadata": {
  "anaconda-cloud": {},
  "kernelspec": {
   "display_name": "Python 2",
   "language": "python",
   "name": "python2"
  },
  "language_info": {
   "codemirror_mode": {
    "name": "ipython",
    "version": 2
   },
   "file_extension": ".py",
   "mimetype": "text/x-python",
   "name": "python",
   "nbconvert_exporter": "python",
   "pygments_lexer": "ipython2",
   "version": "2.7.13"
  },
  "toc": {
   "colors": {
    "hover_highlight": "#DAA520",
    "running_highlight": "#FF0000",
    "selected_highlight": "#FFD700"
   },
   "moveMenuLeft": true,
   "nav_menu": {
    "height": "13px",
    "width": "253px"
   },
   "navigate_menu": true,
   "number_sections": false,
   "sideBar": true,
   "threshold": 4,
   "toc_cell": false,
   "toc_section_display": "block",
   "toc_window_display": false,
   "widenNotebook": false
  }
 },
 "nbformat": 4,
 "nbformat_minor": 0
}
